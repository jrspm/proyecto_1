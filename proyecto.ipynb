{
 "cells": [
  {
   "attachments": {},
   "cell_type": "markdown",
   "metadata": {},
   "source": [
    "## PROYECTO "
   ]
  },
  {
   "cell_type": "code",
   "execution_count": 4,
   "metadata": {},
   "outputs": [],
   "source": [
    "#echo \"# proyecto_1\" >> README.md\n",
    "#git init\n",
    "#git add README.md\n",
    "#git commit -m \"first commit\"\n",
    "#git branch -M main\n",
    "#git remote add origin https://github.com/jrspm/proyecto_1.git\n",
    "#git push -u origin main\n",
    "\n",
    "#git remote add origin https://github.com/jrspm/proyecto_1.git\n",
    "#git branch -M main\n",
    "#git push -u origin main\n",
    "\n",
    "\n",
    "\n",
    "#usar para actualizar el proyecto\n",
    "#git commit -m \"nombre_actualizacion\"\n",
    "#git push -u origin main\n",
    "\n",
    "\n",
    "import numpy as np\n",
    "\n",
    "import pandas as pd\n",
    "\n",
    "import random\n",
    "\n",
    "\n",
    "############################################# inicio ########################################\n",
    "\n",
    "#cargar datos con el nombre del archivo y el numero de columnas, tambien puede reducir en un porcentaje \n",
    "\n",
    "class Datos_Proyecto:\n",
    "\n",
    "    def __init__(self, nombre_archivo,lista_columnas): # todos los atributos del objeto\n",
    "\n",
    "        self.array_total=np.load(nombre_archivo) #cargar el archivo usando el nombre, debe estar en la carpeta y deber ser un array\n",
    "\n",
    "        self.lista_columnas_1=lista_columnas #lista del nombre de las columnas de array\n",
    "\n",
    "        rows, columns = self.array_total.shape #obtener cantidad de filas, columnas del array\n",
    "\n",
    "        self.cantidad_filas=rows #cantidad de filas del array\n",
    "\n",
    "        self.array_tolist=self.array_total.tolist() # convertir en lista el array para poder usarlo en pandas\n",
    "\n",
    "        self.dataframe_total=pd.DataFrame(self.array_tolist, columns=self.lista_columnas_1) # crear el dataframe y nombrar las columnas\n",
    "\n",
    "\n",
    "    def funcion_1(self,porcentaje_reducir): #metodo para reducir el dataframe, porcentaje a reducir\n",
    "\n",
    "        lista_reducir=[]\n",
    "\n",
    "        if porcentaje_reducir<1 and porcentaje_reducir>0: # condicionante para reducir\n",
    "\n",
    "            cantidad_filas_porcentaje=int((self.cantidad_filas)*porcentaje_reducir) #cantidad de filas del porcentaje a reducir\n",
    "\n",
    "\n",
    "            while len(lista_reducir)<cantidad_filas_porcentaje: # terminar el proceso hasta que se tengan todos los valores de la lista\n",
    "\n",
    "                valor_random=random.randint(0,self.cantidad_filas-1) # seleccionar un valor random, entre 0 y la cantidad de datos\n",
    "\n",
    "                if lista_reducir.count(valor_random)==0: # comparar que no exista el valor random\n",
    "                \n",
    "                    lista_reducir.append(valor_random) #agregar a la lista el valor random\n",
    "            \n",
    "            \n",
    "            lista_reducir.sort() # ordenar la lista a reducir\n",
    "\n",
    "            set_range_cantida_filas=set(list(range(self.cantidad_filas-1))) # conjunto de todas las filas dataframe\n",
    "\n",
    "            lista_reducida_trabajar=list(set_range_cantida_filas.difference(set(lista_reducir))) #diferencia de conjuntos, lista de los valores a trabajar\n",
    "\n",
    "            data_Reducido_trabajar=self.dataframe_total.drop(lista_reducir, axis=0) #dataframe de las filas que se trabajaran\n",
    "\n",
    "            data_Reducido_comparar=self.dataframe_total.drop(lista_reducida_trabajar, axis=0) #dataframe de las filas que se compararan\n",
    "\n",
    "            return data_Reducido_trabajar, data_Reducido_comparar\n",
    "\n",
    "        else:\n",
    "\n",
    "            print(\"Valor incorrecto\")\n",
    "\n",
    "\n",
    "lista_1=[\"PRECIO\",\n",
    "    \"CALIDAD_MATERIAL\",\n",
    "    \"AREA_PISO\",\n",
    "    \"TOTAL_HABITACIONES\",\n",
    "    \"AÑO_CONSTRUCCION\",\n",
    "    \"FRENTE\"]\n",
    "\n",
    "datos_1=Datos_Proyecto(\"proyecto_training_data.npy\",lista_1)\n",
    "\n",
    "\n",
    "data_Reducido_from_datos_1=datos_1.funcion_1(0.2)\n",
    "\n",
    "\n"
   ]
  },
  {
   "cell_type": "code",
   "execution_count": 5,
   "metadata": {},
   "outputs": [
    {
     "name": "stdout",
     "output_type": "stream",
     "text": [
      "        PRECIO  CALIDAD_MATERIAL  AREA_PISO  TOTAL_HABITACIONES  \\\n",
      "0     208500.0               7.0      856.0                 8.0   \n",
      "1     181500.0               6.0     1262.0                 6.0   \n",
      "2     223500.0               7.0      920.0                 6.0   \n",
      "3     140000.0               7.0      961.0                 7.0   \n",
      "4     250000.0               8.0     1145.0                 9.0   \n",
      "...        ...               ...        ...                 ...   \n",
      "1455  175000.0               6.0      953.0                 7.0   \n",
      "1456  210000.0               6.0     2073.0                 7.0   \n",
      "1457  266500.0               7.0     1188.0                 9.0   \n",
      "1458  142125.0               5.0     1078.0                 5.0   \n",
      "1459  147500.0               5.0     1256.0                 6.0   \n",
      "\n",
      "      AÑO_CONSTRUCCION  FRENTE  \n",
      "0               2003.0    65.0  \n",
      "1               1976.0    80.0  \n",
      "2               2001.0    68.0  \n",
      "3               1915.0    60.0  \n",
      "4               2000.0    84.0  \n",
      "...                ...     ...  \n",
      "1455            1999.0    62.0  \n",
      "1456            1978.0    85.0  \n",
      "1457            1941.0    66.0  \n",
      "1458            1950.0    68.0  \n",
      "1459            1965.0    75.0  \n",
      "\n",
      "[1460 rows x 6 columns]\n"
     ]
    }
   ],
   "source": [
    "print(datos_1.dataframe_total)\n",
    "\n"
   ]
  },
  {
   "cell_type": "code",
   "execution_count": 6,
   "metadata": {},
   "outputs": [
    {
     "name": "stdout",
     "output_type": "stream",
     "text": [
      "        PRECIO  CALIDAD_MATERIAL  AREA_PISO  TOTAL_HABITACIONES  \\\n",
      "0     208500.0               7.0      856.0                 8.0   \n",
      "1     181500.0               6.0     1262.0                 6.0   \n",
      "2     223500.0               7.0      920.0                 6.0   \n",
      "3     140000.0               7.0      961.0                 7.0   \n",
      "4     250000.0               8.0     1145.0                 9.0   \n",
      "...        ...               ...        ...                 ...   \n",
      "1454  185000.0               7.0     1221.0                 6.0   \n",
      "1455  175000.0               6.0      953.0                 7.0   \n",
      "1457  266500.0               7.0     1188.0                 9.0   \n",
      "1458  142125.0               5.0     1078.0                 5.0   \n",
      "1459  147500.0               5.0     1256.0                 6.0   \n",
      "\n",
      "      AÑO_CONSTRUCCION  FRENTE  \n",
      "0               2003.0    65.0  \n",
      "1               1976.0    80.0  \n",
      "2               2001.0    68.0  \n",
      "3               1915.0    60.0  \n",
      "4               2000.0    84.0  \n",
      "...                ...     ...  \n",
      "1454            2004.0    62.0  \n",
      "1455            1999.0    62.0  \n",
      "1457            1941.0    66.0  \n",
      "1458            1950.0    68.0  \n",
      "1459            1965.0    75.0  \n",
      "\n",
      "[1168 rows x 6 columns]\n"
     ]
    }
   ],
   "source": [
    "print(data_Reducido_from_datos_1[0])\n"
   ]
  },
  {
   "cell_type": "code",
   "execution_count": 7,
   "metadata": {},
   "outputs": [
    {
     "name": "stdout",
     "output_type": "stream",
     "text": [
      "        PRECIO  CALIDAD_MATERIAL  AREA_PISO  TOTAL_HABITACIONES  \\\n",
      "19    139000.0               5.0     1339.0                 6.0   \n",
      "23    129900.0               5.0     1060.0                 6.0   \n",
      "24    154000.0               5.0     1060.0                 6.0   \n",
      "28    207500.0               5.0     1600.0                 6.0   \n",
      "30     40000.0               4.0      649.0                 6.0   \n",
      "...        ...               ...        ...                 ...   \n",
      "1443  121000.0               6.0      952.0                 4.0   \n",
      "1450  136000.0               5.0      896.0                 8.0   \n",
      "1451  287090.0               8.0     1578.0                 7.0   \n",
      "1456  210000.0               6.0     2073.0                 7.0   \n",
      "1459  147500.0               5.0     1256.0                 6.0   \n",
      "\n",
      "      AÑO_CONSTRUCCION  FRENTE  \n",
      "19              1958.0    70.0  \n",
      "23              1976.0    44.0  \n",
      "24              1968.0     NaN  \n",
      "28              1957.0    47.0  \n",
      "30              1920.0    50.0  \n",
      "...                ...     ...  \n",
      "1443            1916.0     NaN  \n",
      "1450            1974.0    60.0  \n",
      "1451            2008.0    78.0  \n",
      "1456            1978.0    85.0  \n",
      "1459            1965.0    75.0  \n",
      "\n",
      "[293 rows x 6 columns]\n"
     ]
    }
   ],
   "source": [
    "print(data_Reducido_from_datos_1[1])\n"
   ]
  }
 ],
 "metadata": {
  "kernelspec": {
   "display_name": "Python 3",
   "language": "python",
   "name": "python3"
  },
  "language_info": {
   "codemirror_mode": {
    "name": "ipython",
    "version": 3
   },
   "file_extension": ".py",
   "mimetype": "text/x-python",
   "name": "python",
   "nbconvert_exporter": "python",
   "pygments_lexer": "ipython3",
   "version": "3.10.8"
  },
  "orig_nbformat": 4,
  "vscode": {
   "interpreter": {
    "hash": "bbd2a033aba475fad999752b9fad4acbae69c7921714380c1b7c126f944364b6"
   }
  }
 },
 "nbformat": 4,
 "nbformat_minor": 2
}
