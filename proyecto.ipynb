{
 "cells": [
  {
   "attachments": {},
   "cell_type": "markdown",
   "metadata": {},
   "source": [
    "## PROYECTO "
   ]
  },
  {
   "cell_type": "code",
   "execution_count": 13,
   "metadata": {},
   "outputs": [
    {
     "name": "stdout",
     "output_type": "stream",
     "text": [
      "[[2.08500e+05 7.00000e+00 8.56000e+02 8.00000e+00 2.00300e+03 6.50000e+01]\n",
      " [1.81500e+05 6.00000e+00 1.26200e+03 6.00000e+00 1.97600e+03 8.00000e+01]\n",
      " [2.23500e+05 7.00000e+00 9.20000e+02 6.00000e+00 2.00100e+03 6.80000e+01]\n",
      " ...\n",
      " [2.66500e+05 7.00000e+00 1.18800e+03 9.00000e+00 1.94100e+03 6.60000e+01]\n",
      " [1.42125e+05 5.00000e+00 1.07800e+03 5.00000e+00 1.95000e+03 6.80000e+01]\n",
      " [1.47500e+05 5.00000e+00 1.25600e+03 6.00000e+00 1.96500e+03 7.50000e+01]]\n"
     ]
    }
   ],
   "source": [
    "#echo \"# proyecto_1\" >> README.md\n",
    "#git init\n",
    "#git add README.md\n",
    "#git commit -m \"first commit\"\n",
    "#git branch -M main\n",
    "#git remote add origin https://github.com/jrspm/proyecto_1.git\n",
    "#git push -u origin main\n",
    "\n",
    "#git remote add origin https://github.com/jrspm/proyecto_1.git\n",
    "#git branch -M main\n",
    "#git push -u origin main\n",
    "\n",
    "\n",
    "\n",
    "#usar para actualizar el proyecto\n",
    "#git commit -m \"nombre_actualizacion\"\n",
    "#git push -u origin main\n",
    "\n",
    "\n",
    "import numpy as np\n",
    "\n",
    "import pandas as pd\n",
    "\n",
    "import random\n",
    "\n",
    "\n",
    "############################################# inicio ########################################\n",
    "\n",
    "#cargar datos con el nombre del archivo y el numero de columnas, tambien puede reducir en un porcentaje \n",
    "\n",
    "class Datos_Proyecto:\n",
    "\n",
    "    def __init__(self, nombre_archivo,lista_columnas): # todos los atributos del objeto\n",
    "\n",
    "        self.array_total=np.load(nombre_archivo) #cargar el archivo usando el nombre, debe estar en la carpeta y deber ser un array\n",
    "\n",
    "        self.lista_columnas_1=lista_columnas #lista del nombre de las columnas de array\n",
    "\n",
    "        rows, columns = self.array_total.shape #obtener cantidad de filas, columnas del array\n",
    "\n",
    "        self.cantidad_filas=rows #cantidad de filas del array\n",
    "\n",
    "        self.array_tolist=self.array_total.tolist() # convertir en lista el array para poder usarlo en pandas\n",
    "\n",
    "        self.dataframe_total=pd.DataFrame(self.array_tolist, columns=self.lista_columnas_1) # crear el dataframe y nombrar las columnas\n",
    "\n",
    "\n",
    "    def funcion_1(self,porcentaje_reducir): #metodo para reducir el dataframe, porcentaje a reducir\n",
    "\n",
    "        lista_reducir=[]\n",
    "\n",
    "        if porcentaje_reducir<1 and porcentaje_reducir>0: # condicionante para reducir\n",
    "\n",
    "            cantidad_filas_porcentaje=int((self.cantidad_filas)*porcentaje_reducir) #cantidad de filas del porcentaje a reducir\n",
    "\n",
    "\n",
    "            while len(lista_reducir)<cantidad_filas_porcentaje: # terminar el proceso hasta que se tengan todos los valores de la lista\n",
    "\n",
    "                valor_random=random.randint(0,self.cantidad_filas-1) # seleccionar un valor random, entre 0 y la cantidad de datos\n",
    "\n",
    "                if lista_reducir.count(valor_random)==0: # comparar que no exista el valor random\n",
    "                \n",
    "                    lista_reducir.append(valor_random) #agregar a la lista el valor random\n",
    "            \n",
    "            \n",
    "            lista_reducir.sort() # ordenar la lista a reducir\n",
    "\n",
    "            set_range_cantida_filas=set(list(range(self.cantidad_filas-1))) # conjunto de todas las filas dataframe\n",
    "\n",
    "            lista_reducida_trabajar=list(set_range_cantida_filas.difference(set(lista_reducir))) #diferencia de conjuntos, lista de los valores a trabajar\n",
    "\n",
    "            data_Reducido_trabajar=self.dataframe_total.drop(lista_reducir, axis=0) #dataframe de las filas que se trabajaran\n",
    "\n",
    "            data_Reducido_comparar=self.dataframe_total.drop(lista_reducida_trabajar, axis=0) #dataframe de las filas que se compararan\n",
    "\n",
    "            return data_Reducido_trabajar, data_Reducido_comparar\n",
    "\n",
    "        else:\n",
    "\n",
    "            print(\"Valor incorrecto\")\n",
    "\n",
    "\n",
    "lista_1=[\"PRECIO\",\n",
    "    \"CALIDAD_MATERIAL\",\n",
    "    \"AREA_PISO\",\n",
    "    \"TOTAL_HABITACIONES\",\n",
    "    \"AÑO_CONSTRUCCION\",\n",
    "    \"FRENTE\"]\n",
    "\n",
    "datos_1=Datos_Proyecto(\"proyecto_training_data.npy\",lista_1)\n",
    "\n",
    "\n",
    "data_Reducido_from_datos_1=datos_1.funcion_1(0.2)\n",
    "\n",
    "\n",
    "print(datos_1.dataframe_total)\n",
    "\n",
    "print(data_Reducido_from_datos_1[0])\n",
    "\n",
    "print(data_Reducido_from_datos_1[1])"
   ]
  },
  {
   "cell_type": "code",
   "execution_count": null,
   "metadata": {},
   "outputs": [],
   "source": [
    "import random\n",
    "\n",
    "lista_1=[]"
   ]
  }
 ],
 "metadata": {
  "kernelspec": {
   "display_name": "Python 3",
   "language": "python",
   "name": "python3"
  },
  "language_info": {
   "codemirror_mode": {
    "name": "ipython",
    "version": 3
   },
   "file_extension": ".py",
   "mimetype": "text/x-python",
   "name": "python",
   "nbconvert_exporter": "python",
   "pygments_lexer": "ipython3",
   "version": "3.10.8"
  },
  "orig_nbformat": 4,
  "vscode": {
   "interpreter": {
    "hash": "bbd2a033aba475fad999752b9fad4acbae69c7921714380c1b7c126f944364b6"
   }
  }
 },
 "nbformat": 4,
 "nbformat_minor": 2
}
