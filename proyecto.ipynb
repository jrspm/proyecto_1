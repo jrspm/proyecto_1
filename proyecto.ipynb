{
 "cells": [
  {
   "attachments": {},
   "cell_type": "markdown",
   "metadata": {},
   "source": [
    "## PROYECTO "
   ]
  },
  {
   "cell_type": "code",
   "execution_count": 1,
   "metadata": {},
   "outputs": [],
   "source": [
    "#echo \"# proyecto_1\" >> README.md\n",
    "#git init\n",
    "#git add README.md\n",
    "#git commit -m \"first commit\"\n",
    "#git branch -M main\n",
    "#git remote add origin https://github.com/jrspm/proyecto_1.git\n",
    "#git push -u origin main\n",
    "\n",
    "#git remote add origin https://github.com/jrspm/proyecto_1.git\n",
    "#git branch -M main\n",
    "#git push -u origin main\n",
    "\n",
    "\n",
    "\n",
    "#usar para actualizar el proyecto\n",
    "#git commit -m \"nombre_actualizacion\"\n",
    "#git push -u origin main\n",
    "\n",
    "\n"
   ]
  },
  {
   "cell_type": "code",
   "execution_count": 2,
   "metadata": {},
   "outputs": [],
   "source": [
    "#------------------------------------- inicio paquetes necesarios -------------------------------------\n",
    "\n",
    "import numpy as np # paquete para arrays\n",
    "\n",
    "import pandas as pd # paquete para dataframes\n",
    "\n",
    "import random # se uso este paquete porque se queria que los valores para reducir el porcentaje fuera aleatorio\n",
    "\n",
    "#------------------------------------- fin paquetes necesarios -------------------------------------"
   ]
  },
  {
   "attachments": {},
   "cell_type": "markdown",
   "metadata": {},
   "source": [
    "### PASO 2"
   ]
  },
  {
   "cell_type": "code",
   "execution_count": 8,
   "metadata": {},
   "outputs": [],
   "source": [
    "######################################################################################################\n",
    "################################################ PASO 2 ##############################################\n",
    "# Usando sclicing con NumPy separar los datos en 2 datasets: entrenamiento(80 %) y validación\n",
    "# y pruebas(20 %).\n",
    "######################################################################################################\n",
    "\n",
    "#-------------------------------------  inicio data frame cargar datos -------------------------------------\n",
    "\n",
    "#-------------------------------------  inicio data frame cargar datos -------------------------------------\n",
    "\n",
    "#cargar datos con el nombre del archivo y el numero de columnas, tambien puede reducir en un porcentaje \n",
    "\n",
    "class Datos_Proyecto:\n",
    "\n",
    "    def __init__(self, nombre_archivo,lista_columnas): # todos los atributos del objeto\n",
    "\n",
    "        self.array_total=np.load(nombre_archivo) #cargar el archivo usando el nombre, debe estar en la carpeta y deber ser un array\n",
    "\n",
    "        self.lista_columnas_1=lista_columnas #lista del nombre de las columnas de array\n",
    "\n",
    "        rows, columns = self.array_total.shape #obtener cantidad de filas, columnas del array\n",
    "\n",
    "        self.cantidad_filas=rows #cantidad de filas del array\n",
    "\n",
    "        self.array_tolist=self.array_total.tolist() # convertir en lista el array para poder usarlo en pandas\n",
    "\n",
    "        self.dataframe_total=pd.DataFrame(self.array_tolist, columns=self.lista_columnas_1) # crear el dataframe y nombrar las columnas\n",
    "\n",
    "        self.data_Reducido_trabajar=self.dataframe_total\n",
    "\n",
    "        self.data_Reducido_comparar=self.dataframe_total\n",
    "\n",
    "\n",
    "\n",
    "\n",
    "    def reducir_data(self,porcentaje_reducir): #metodo para reducir el dataframe, porcentaje a reducir\n",
    "\n",
    "        lista_reducir=[]\n",
    "\n",
    "        if porcentaje_reducir<1 and porcentaje_reducir>0: # condicionante para reducir\n",
    "\n",
    "            cantidad_filas_porcentaje=int((self.cantidad_filas)*porcentaje_reducir) #cantidad de filas del porcentaje a reducir\n",
    "\n",
    "\n",
    "            while len(lista_reducir)<cantidad_filas_porcentaje: # terminar el proceso hasta que se tengan todos los valores de la lista\n",
    "\n",
    "                valor_random=random.randint(0,self.cantidad_filas-1) # seleccionar un valor random, entre 0 y la cantidad de datos\n",
    "\n",
    "                if lista_reducir.count(valor_random)==0: # comparar que no exista el valor random\n",
    "                \n",
    "                    lista_reducir.append(valor_random) #agregar a la lista el valor random\n",
    "            \n",
    "            \n",
    "            lista_reducir.sort() # ordenar la lista a reducir\n",
    "\n",
    "            set_range_cantida_filas=set(list(range(self.cantidad_filas-1))) # conjunto de todas las filas dataframe\n",
    "\n",
    "            lista_reducida_trabajar=list(set_range_cantida_filas.difference(set(lista_reducir))) #diferencia de conjuntos, lista de los valores a trabajar\n",
    "\n",
    "            self.data_Reducido_trabajar=self.dataframe_total.drop(lista_reducir, axis=0) #dataframe de las filas que se trabajaran\n",
    "\n",
    "            self.data_Reducido_comparar=self.dataframe_total.drop(lista_reducida_trabajar, axis=0) #dataframe de las filas que se compararan\n",
    "\n",
    "            return self.data_Reducido_trabajar, self.data_Reducido_comparar\n",
    "\n",
    "        else:\n",
    "\n",
    "            print(\"Valor incorrecto\")\n",
    "\n",
    "\n",
    "    def valor_max_med_min_ptp_desv(self,list_num_int,redondear): #metodo para obtener los valores max_min_medio_ptp_desvi, ingresar \n",
    "\n",
    "        dic_val_max_med_min_ptp_desv={\"VALORES\":(\"MAXIMO\",\"MEDIA\",\"MINIMO\",\"PEAK TO PEAK\",\"DESVIACION\")}\n",
    "\n",
    "        for i in self.lista_columnas_1:\n",
    "\n",
    "            data_1=self.data_Reducido_trabajar[i] #DATAFRAME DE CADA COLUMNA i \n",
    "\n",
    "            val_max=data_1.max() # obtener el valor maximo del dataframe\n",
    "            val_med=data_1.mean() # obtener el valor medio del dataframe\n",
    "            val_min=data_1.min() # obtener el valor minimo del dataframe \n",
    "            val_des=data_1.dropna().std() # obtener la desviacion estandar quitando los nan\n",
    "            val_ptp=np.ptp(data_1.dropna()) # obtener el peak to peak quitando los nan\n",
    "\n",
    "            val_cancatenados=[val_max,val_med,val_min,val_ptp,val_des] # hacer una lista de los valores\n",
    "\n",
    "            if list_num_int.count(i)>0:\n",
    "\n",
    "                val_cancatenados = list(map(int, val_cancatenados)) # redondear enteros cuando la columna lo requiera\n",
    "\n",
    "            else:\n",
    "\n",
    "                val_cancatenados =[round(i,redondear) for i in val_cancatenados] # redondear hasta la cifra indicada\n",
    "\n",
    "\n",
    "            val_cancatenados_1=tuple(val_cancatenados) # convertir en tupla la lista\n",
    "\n",
    "\n",
    "            dic_val_max_med_min_ptp_desv[i]=val_cancatenados_1 # guardar en el diccionario la tupla con los valores segun la columna\n",
    "\n",
    "        data_valores = pd.DataFrame(dic_val_max_med_min_ptp_desv) # crear un dataframe apartir de un diccionario\n",
    "            \n",
    "        return data_valores #regresa un dataframe con todos los valores\n",
    "\n",
    "#-------------------------------------  fin data frame cargar datos -------------------------------------"
   ]
  },
  {
   "attachments": {},
   "cell_type": "markdown",
   "metadata": {},
   "source": [
    "INGRESAR DATOS Y NOMBRAR LAS COLUMNAS"
   ]
  },
  {
   "cell_type": "code",
   "execution_count": null,
   "metadata": {},
   "outputs": [],
   "source": [
    "lista_1=[\"PRECIO\",\n",
    "    \"CALIDAD_MATERIAL\",\n",
    "    \"AREA_PISO\",\n",
    "    \"TOTAL_HABITACIONES\",\n",
    "    \"AÑO_CONSTRUCCION\",\n",
    "    \"FRENTE\"] # LISTA DE LOS NOMBRES DE LAS COLUMNAS\n",
    "\n",
    "datos_1=Datos_Proyecto(\"proyecto_training_data.npy\",lista_1) # leer los datos"
   ]
  },
  {
   "attachments": {},
   "cell_type": "markdown",
   "metadata": {},
   "source": [
    "DATAFRAME DE TODOS LOS DATOS "
   ]
  },
  {
   "cell_type": "code",
   "execution_count": 5,
   "metadata": {},
   "outputs": [
    {
     "name": "stdout",
     "output_type": "stream",
     "text": [
      "        PRECIO  CALIDAD_MATERIAL  AREA_PISO  TOTAL_HABITACIONES  \\\n",
      "0     208500.0               7.0      856.0                 8.0   \n",
      "1     181500.0               6.0     1262.0                 6.0   \n",
      "2     223500.0               7.0      920.0                 6.0   \n",
      "3     140000.0               7.0      961.0                 7.0   \n",
      "4     250000.0               8.0     1145.0                 9.0   \n",
      "...        ...               ...        ...                 ...   \n",
      "1455  175000.0               6.0      953.0                 7.0   \n",
      "1456  210000.0               6.0     2073.0                 7.0   \n",
      "1457  266500.0               7.0     1188.0                 9.0   \n",
      "1458  142125.0               5.0     1078.0                 5.0   \n",
      "1459  147500.0               5.0     1256.0                 6.0   \n",
      "\n",
      "      AÑO_CONSTRUCCION  FRENTE  \n",
      "0               2003.0    65.0  \n",
      "1               1976.0    80.0  \n",
      "2               2001.0    68.0  \n",
      "3               1915.0    60.0  \n",
      "4               2000.0    84.0  \n",
      "...                ...     ...  \n",
      "1455            1999.0    62.0  \n",
      "1456            1978.0    85.0  \n",
      "1457            1941.0    66.0  \n",
      "1458            1950.0    68.0  \n",
      "1459            1965.0    75.0  \n",
      "\n",
      "[1460 rows x 6 columns]\n"
     ]
    }
   ],
   "source": [
    "print(datos_1.dataframe_total) # DATAFRAME DE TODOS LOS DATOS "
   ]
  },
  {
   "attachments": {},
   "cell_type": "markdown",
   "metadata": {},
   "source": [
    "DATAFRAME  entrenamiento(80 %)"
   ]
  },
  {
   "cell_type": "code",
   "execution_count": 6,
   "metadata": {},
   "outputs": [
    {
     "name": "stdout",
     "output_type": "stream",
     "text": [
      "        PRECIO  CALIDAD_MATERIAL  AREA_PISO  TOTAL_HABITACIONES  \\\n",
      "2     223500.0               7.0      920.0                 6.0   \n",
      "3     140000.0               7.0      961.0                 7.0   \n",
      "4     250000.0               8.0     1145.0                 9.0   \n",
      "5     143000.0               5.0      796.0                 5.0   \n",
      "7     200000.0               7.0     1107.0                 7.0   \n",
      "...        ...               ...        ...                 ...   \n",
      "1455  175000.0               6.0      953.0                 7.0   \n",
      "1456  210000.0               6.0     2073.0                 7.0   \n",
      "1457  266500.0               7.0     1188.0                 9.0   \n",
      "1458  142125.0               5.0     1078.0                 5.0   \n",
      "1459  147500.0               5.0     1256.0                 6.0   \n",
      "\n",
      "      AÑO_CONSTRUCCION  FRENTE  \n",
      "2               2001.0    68.0  \n",
      "3               1915.0    60.0  \n",
      "4               2000.0    84.0  \n",
      "5               1993.0    85.0  \n",
      "7               1973.0     NaN  \n",
      "...                ...     ...  \n",
      "1455            1999.0    62.0  \n",
      "1456            1978.0    85.0  \n",
      "1457            1941.0    66.0  \n",
      "1458            1950.0    68.0  \n",
      "1459            1965.0    75.0  \n",
      "\n",
      "[1168 rows x 6 columns]\n"
     ]
    }
   ],
   "source": [
    "print(data_Reducido_from_datos_1[0]) # DATAFRAME  entrenamiento(80 %)"
   ]
  },
  {
   "attachments": {},
   "cell_type": "markdown",
   "metadata": {},
   "source": [
    "DATAFRAME pruebas(20 %)"
   ]
  },
  {
   "cell_type": "code",
   "execution_count": 7,
   "metadata": {},
   "outputs": [
    {
     "name": "stdout",
     "output_type": "stream",
     "text": [
      "        PRECIO  CALIDAD_MATERIAL  AREA_PISO  TOTAL_HABITACIONES  \\\n",
      "0     208500.0               7.0      856.0                 8.0   \n",
      "1     181500.0               6.0     1262.0                 6.0   \n",
      "6     307000.0               8.0     1694.0                 7.0   \n",
      "8     129900.0               7.0     1022.0                 8.0   \n",
      "11    345000.0               9.0     1182.0                11.0   \n",
      "...        ...               ...        ...                 ...   \n",
      "1443  121000.0               6.0      952.0                 4.0   \n",
      "1445  129000.0               6.0      913.0                 6.0   \n",
      "1450  136000.0               5.0      896.0                 8.0   \n",
      "1452  145000.0               5.0     1072.0                 5.0   \n",
      "1459  147500.0               5.0     1256.0                 6.0   \n",
      "\n",
      "      AÑO_CONSTRUCCION  FRENTE  \n",
      "0               2003.0    65.0  \n",
      "1               1976.0    80.0  \n",
      "6               2004.0    75.0  \n",
      "8               1931.0    51.0  \n",
      "11              2005.0    85.0  \n",
      "...                ...     ...  \n",
      "1443            1916.0     NaN  \n",
      "1445            1966.0    70.0  \n",
      "1450            1974.0    60.0  \n",
      "1452            2005.0    35.0  \n",
      "1459            1965.0    75.0  \n",
      "\n",
      "[293 rows x 6 columns]\n"
     ]
    }
   ],
   "source": [
    "print(data_Reducido_from_datos_1[1]) # DATAFRAME pruebas(20 %)"
   ]
  },
  {
   "attachments": {},
   "cell_type": "markdown",
   "metadata": {},
   "source": [
    "### PASO 3"
   ]
  },
  {
   "cell_type": "code",
   "execution_count": 9,
   "metadata": {},
   "outputs": [
    {
     "name": "stdout",
     "output_type": "stream",
     "text": [
      "        VALORES       PRECIO  CALIDAD_MATERIAL  AREA_PISO  TOTAL_HABITACIONES  \\\n",
      "0        MAXIMO  755000.0000           10.0000  4692.0000             14.0000   \n",
      "1         MEDIA  180778.6558            6.0950  1158.7474              6.5205   \n",
      "2        MINIMO   35311.0000            1.0000   334.0000              2.0000   \n",
      "3  PEAK TO PEAK  719689.0000            9.0000  4358.0000             12.0000   \n",
      "4    DESVIACION   80766.3787            1.3905   392.2501              1.6532   \n",
      "\n",
      "   AÑO_CONSTRUCCION    FRENTE  \n",
      "0              2010  313.0000  \n",
      "1              1971   69.6895  \n",
      "2              1872   21.0000  \n",
      "3               138  292.0000  \n",
      "4                30   25.0357  \n"
     ]
    }
   ],
   "source": [
    "#------------------------------------- inicio max_min_medio_ptp_desvi -------------------------------------\n",
    "\n",
    "lista_enteros=[\"AÑO_CONSTRUCCION\"] # columnas que deben ser enteros\n",
    "\n",
    "\n",
    "#ingresar los valores de la lista de las columnas que deben ser enteros y el valor de los decimales\n",
    "data_valores=datos_1.valor_max_med_min_ptp_desv(lista_enteros,4) #obtener la media de cada columna en un diccionario\n",
    "\n",
    "#------------------------------------- fin  max_min_medio_ptp_desvi ------------------------------------------\n",
    "\n",
    "print(data_valores)"
   ]
  }
 ],
 "metadata": {
  "kernelspec": {
   "display_name": "Python 3",
   "language": "python",
   "name": "python3"
  },
  "language_info": {
   "codemirror_mode": {
    "name": "ipython",
    "version": 3
   },
   "file_extension": ".py",
   "mimetype": "text/x-python",
   "name": "python",
   "nbconvert_exporter": "python",
   "pygments_lexer": "ipython3",
   "version": "3.10.8"
  },
  "orig_nbformat": 4,
  "vscode": {
   "interpreter": {
    "hash": "bbd2a033aba475fad999752b9fad4acbae69c7921714380c1b7c126f944364b6"
   }
  }
 },
 "nbformat": 4,
 "nbformat_minor": 2
}
