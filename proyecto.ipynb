{
 "cells": [
  {
   "attachments": {},
   "cell_type": "markdown",
   "metadata": {},
   "source": [
    "## PROYECTO "
   ]
  },
  {
   "cell_type": "code",
   "execution_count": 13,
   "metadata": {},
   "outputs": [
    {
     "name": "stdout",
     "output_type": "stream",
     "text": [
      "[[2.08500e+05 7.00000e+00 8.56000e+02 8.00000e+00 2.00300e+03 6.50000e+01]\n",
      " [1.81500e+05 6.00000e+00 1.26200e+03 6.00000e+00 1.97600e+03 8.00000e+01]\n",
      " [2.23500e+05 7.00000e+00 9.20000e+02 6.00000e+00 2.00100e+03 6.80000e+01]\n",
      " ...\n",
      " [2.66500e+05 7.00000e+00 1.18800e+03 9.00000e+00 1.94100e+03 6.60000e+01]\n",
      " [1.42125e+05 5.00000e+00 1.07800e+03 5.00000e+00 1.95000e+03 6.80000e+01]\n",
      " [1.47500e+05 5.00000e+00 1.25600e+03 6.00000e+00 1.96500e+03 7.50000e+01]]\n"
     ]
    }
   ],
   "source": [
    "#echo \"# proyecto_1\" >> README.md\n",
    "#git init\n",
    "#git add README.md\n",
    "#git commit -m \"first commit\"\n",
    "#git branch -M main\n",
    "#git remote add origin https://github.com/jrspm/proyecto_1.git\n",
    "#git push -u origin main\n",
    "\n",
    "#git remote add origin https://github.com/jrspm/proyecto_1.git\n",
    "#git branch -M main\n",
    "#git push -u origin main\n",
    "\n",
    "\n",
    "\n",
    "#usar para actualizar el proyecto\n",
    "#git commit -m \"nombre_actualizacion\"\n",
    "#git push -u origin main\n",
    "\n",
    "\n",
    "import numpy as np\n",
    "\n",
    "import pandas as pd\n",
    "\n",
    "import random\n",
    "\n",
    "lista_1=[\"PRECIO\",\n",
    "    \"CALIDAD_MATERIAL\",\n",
    "    \"AREA_PISO\",\n",
    "    \"TOTAL_HABITACIONES\",\n",
    "    \"AÑO_CONSTRUCCION\",\n",
    "    \"FRENTE\"]\n",
    "\n",
    "#print(lista_1)\n",
    "\n",
    "class Datos_Proyecto:\n",
    "\n",
    "    def __init__(self, nombre_archivo,lista_columnas):\n",
    "\n",
    "        self.array_total=np.load(nombre_archivo)\n",
    "        self.lista_columnas_1=lista_columnas\n",
    "\n",
    "        rows, columns = self.array_total.shape\n",
    "\n",
    "        self.cantidad_filas=rows\n",
    "\n",
    "        self.cantidad_filas_porcentaje=0\n",
    "\n",
    "\n",
    "\n",
    "    def funcion_1(self,porcentaje_reducir):\n",
    "\n",
    "        if porcentaje_reducir<1 and porcentaje_reducir>0:\n",
    "\n",
    "            self.cantidad_filas_porcentaje=(self.cantidad_filas)*porcentaje_reducir\n",
    "\n",
    "        else:\n",
    "\n",
    "            print(\"Valor incorrecto\")\n",
    "\n",
    "        return self.array_total\n",
    "\n",
    "\n",
    "datos_1=Datos_Proyecto(\"proyecto_training_data.npy\",lista_1)\n",
    "\n",
    "\n",
    "array_1=datos_1.funcion_1(0.2)\n",
    "\n",
    "print(array_1)\n"
   ]
  }
 ],
 "metadata": {
  "kernelspec": {
   "display_name": "base",
   "language": "python",
   "name": "python3"
  },
  "language_info": {
   "codemirror_mode": {
    "name": "ipython",
    "version": 3
   },
   "file_extension": ".py",
   "mimetype": "text/x-python",
   "name": "python",
   "nbconvert_exporter": "python",
   "pygments_lexer": "ipython3",
   "version": "3.9.13"
  },
  "orig_nbformat": 4,
  "vscode": {
   "interpreter": {
    "hash": "ad2bdc8ecc057115af97d19610ffacc2b4e99fae6737bb82f5d7fb13d2f2c186"
   }
  }
 },
 "nbformat": 4,
 "nbformat_minor": 2
}
