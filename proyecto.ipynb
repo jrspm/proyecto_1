{
 "cells": [
  {
   "attachments": {},
   "cell_type": "markdown",
   "metadata": {},
   "source": [
    "## PROYECTO "
   ]
  },
  {
   "cell_type": "code",
   "execution_count": 12,
   "metadata": {},
   "outputs": [
    {
     "name": "stdout",
     "output_type": "stream",
     "text": [
      "        PRECIO  CALIDAD_MATERIAL  AREA_PISO  TOTAL_HABITACIONES  \\\n",
      "0     208500.0               7.0      856.0                 8.0   \n",
      "1     181500.0               6.0     1262.0                 6.0   \n",
      "2     223500.0               7.0      920.0                 6.0   \n",
      "3     140000.0               7.0      961.0                 7.0   \n",
      "4     250000.0               8.0     1145.0                 9.0   \n",
      "...        ...               ...        ...                 ...   \n",
      "1455  175000.0               6.0      953.0                 7.0   \n",
      "1456  210000.0               6.0     2073.0                 7.0   \n",
      "1457  266500.0               7.0     1188.0                 9.0   \n",
      "1458  142125.0               5.0     1078.0                 5.0   \n",
      "1459  147500.0               5.0     1256.0                 6.0   \n",
      "\n",
      "      AÑO_CONSTRUCCION  FRENTE  \n",
      "0               2003.0    65.0  \n",
      "1               1976.0    80.0  \n",
      "2               2001.0    68.0  \n",
      "3               1915.0    60.0  \n",
      "4               2000.0    84.0  \n",
      "...                ...     ...  \n",
      "1455            1999.0    62.0  \n",
      "1456            1978.0    85.0  \n",
      "1457            1941.0    66.0  \n",
      "1458            1950.0    68.0  \n",
      "1459            1965.0    75.0  \n",
      "\n",
      "[1460 rows x 6 columns]\n"
     ]
    }
   ],
   "source": [
    "#echo \"# proyecto_1\" >> README.md\n",
    "#git init\n",
    "#git add README.md\n",
    "#git commit -m \"first commit\"\n",
    "#git branch -M main\n",
    "#git remote add origin https://github.com/jrspm/proyecto_1.git\n",
    "#git push -u origin main\n",
    "\n",
    "#git remote add origin https://github.com/jrspm/proyecto_1.git\n",
    "#git branch -M main\n",
    "#git push -u origin main\n",
    "\n",
    "\n",
    "\n",
    "#usar para actualizar el proyecto\n",
    "#git commit -m \"nombre_actualizacion\"\n",
    "#git push -u origin main\n",
    "\n",
    "\n",
    "import numpy as np\n",
    "\n",
    "import pandas as pd\n",
    "\n",
    "lista_1=[\"PRECIO\",\n",
    "    \"CALIDAD_MATERIAL\",\n",
    "    \"AREA_PISO\",\n",
    "    \"TOTAL_HABITACIONES\",\n",
    "    \"AÑO_CONSTRUCCION\",\n",
    "    \"FRENTE\"]\n",
    "\n",
    "#print(lista_1)\n",
    "\n",
    "\n",
    "datos=np.load('proyecto_training_data.npy') # cargar proyecto_training_data.npy\n",
    "\n",
    "\n",
    "datos_1=datos.tolist()\n",
    "\n",
    "#print(datos_1)\n",
    "\n",
    "\n",
    "dataframe_elemento=pd.DataFrame(datos_1,\n",
    "    columns=lista_1)\n",
    "\n",
    "\n",
    "\n",
    "print(dataframe_elemento)\n"
   ]
  }
 ],
 "metadata": {
  "kernelspec": {
   "display_name": "base",
   "language": "python",
   "name": "python3"
  },
  "language_info": {
   "codemirror_mode": {
    "name": "ipython",
    "version": 3
   },
   "file_extension": ".py",
   "mimetype": "text/x-python",
   "name": "python",
   "nbconvert_exporter": "python",
   "pygments_lexer": "ipython3",
   "version": "3.9.13"
  },
  "orig_nbformat": 4,
  "vscode": {
   "interpreter": {
    "hash": "ad2bdc8ecc057115af97d19610ffacc2b4e99fae6737bb82f5d7fb13d2f2c186"
   }
  }
 },
 "nbformat": 4,
 "nbformat_minor": 2
}
